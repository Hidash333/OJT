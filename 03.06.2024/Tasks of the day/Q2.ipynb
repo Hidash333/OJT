{
 "cells": [
  {
   "cell_type": "code",
   "execution_count": 5,
   "metadata": {},
   "outputs": [
    {
     "name": "stdout",
     "output_type": "stream",
     "text": [
      "[[6.23042070e-307 3.56043053e-307 1.60219306e-306 2.44763557e-307]\n",
      " [1.69119330e-306 1.78022342e-306 1.05700345e-307 3.11525958e-307]\n",
      " [1.69118108e-306 8.06632139e-308 1.20160711e-306 1.69119330e-306]]\n"
     ]
    }
   ],
   "source": [
    "import numpy as np\n",
    "\n",
    "# Create an empty 3x4 NumPy array\n",
    "empty_arr = np.empty((3, 4))\n",
    "print(empty_arr)\n"
   ]
  },
  {
   "cell_type": "code",
   "execution_count": 2,
   "metadata": {},
   "outputs": [
    {
     "name": "stdout",
     "output_type": "stream",
     "text": [
      "[[42 42 42 42]\n",
      " [42 42 42 42]\n",
      " [42 42 42 42]]\n"
     ]
    }
   ],
   "source": [
    "import numpy as np\n",
    "\n",
    "# Create a 3x4 NumPy array filled with the value 42\n",
    "full_arr = np.full((3, 4), 42)\n",
    "print(full_arr)\n"
   ]
  }
 ],
 "metadata": {
  "kernelspec": {
   "display_name": "Python 3",
   "language": "python",
   "name": "python3"
  },
  "language_info": {
   "codemirror_mode": {
    "name": "ipython",
    "version": 3
   },
   "file_extension": ".py",
   "mimetype": "text/x-python",
   "name": "python",
   "nbconvert_exporter": "python",
   "pygments_lexer": "ipython3",
   "version": "3.11.4"
  }
 },
 "nbformat": 4,
 "nbformat_minor": 2
}
