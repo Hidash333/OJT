{
 "cells": [
  {
   "cell_type": "code",
   "execution_count": 1,
   "metadata": {},
   "outputs": [
    {
     "name": "stdout",
     "output_type": "stream",
     "text": [
      "Matrix A:\n",
      "[[1 2 3]\n",
      " [4 5 6]\n",
      " [7 8 9]]\n",
      "\n",
      "Matrix B:\n",
      "[[10 11 12]\n",
      " [13 14 15]\n",
      " [16 17 18]]\n",
      "\n",
      "Result of matrix addition:\n",
      "[[11 13 15]\n",
      " [17 19 21]\n",
      " [23 25 27]]\n",
      "\n",
      "Result of matrix subtraction:\n",
      "[[-9 -9 -9]\n",
      " [-9 -9 -9]\n",
      " [-9 -9 -9]]\n"
     ]
    }
   ],
   "source": [
    "import numpy as np\n",
    "\n",
    "# Create two sample matrices\n",
    "matrix_A = np.array([[1, 2, 3],\n",
    "                     [4, 5, 6],\n",
    "                     [7, 8, 9]])\n",
    "\n",
    "matrix_B = np.array([[10, 11, 12],\n",
    "                     [13, 14, 15],\n",
    "                     [16, 17, 18]])\n",
    "\n",
    "# Add the matrices\n",
    "result_add = matrix_A + matrix_B\n",
    "\n",
    "# Subtract the matrices\n",
    "result_sub = matrix_A - matrix_B\n",
    "\n",
    "print(\"Matrix A:\")\n",
    "print(matrix_A)\n",
    "print(\"\\nMatrix B:\")\n",
    "print(matrix_B)\n",
    "print(\"\\nResult of matrix addition:\")\n",
    "print(result_add)\n",
    "print(\"\\nResult of matrix subtraction:\")\n",
    "print(result_sub)\n"
   ]
  }
 ],
 "metadata": {
  "kernelspec": {
   "display_name": "Python 3",
   "language": "python",
   "name": "python3"
  },
  "language_info": {
   "codemirror_mode": {
    "name": "ipython",
    "version": 3
   },
   "file_extension": ".py",
   "mimetype": "text/x-python",
   "name": "python",
   "nbconvert_exporter": "python",
   "pygments_lexer": "ipython3",
   "version": "3.11.4"
  }
 },
 "nbformat": 4,
 "nbformat_minor": 2
}
