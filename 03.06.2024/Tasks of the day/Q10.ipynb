{
 "cells": [
  {
   "cell_type": "code",
   "execution_count": 1,
   "metadata": {},
   "outputs": [
    {
     "name": "stdout",
     "output_type": "stream",
     "text": [
      "Unique values in the array:\n",
      "[1 2 3 4]\n",
      "\n",
      "Frequency of unique values:\n",
      "{1: 4, 2: 3, 3: 2, 4: 1}\n"
     ]
    }
   ],
   "source": [
    "import numpy as np\n",
    "\n",
    "# Create a sample NumPy array\n",
    "arr = np.array([1, 2, 3, 1, 2, 1, 4, 2, 3, 1])\n",
    "\n",
    "# Count the frequency of unique values\n",
    "unique_values, counts = np.unique(arr, return_counts=True)\n",
    "\n",
    "print(\"Unique values in the array:\")\n",
    "print(unique_values)\n",
    "print(\"\\nFrequency of unique values:\")\n",
    "print(dict(zip(unique_values, counts)))\n"
   ]
  }
 ],
 "metadata": {
  "kernelspec": {
   "display_name": "Python 3",
   "language": "python",
   "name": "python3"
  },
  "language_info": {
   "codemirror_mode": {
    "name": "ipython",
    "version": 3
   },
   "file_extension": ".py",
   "mimetype": "text/x-python",
   "name": "python",
   "nbconvert_exporter": "python",
   "pygments_lexer": "ipython3",
   "version": "3.11.4"
  }
 },
 "nbformat": 4,
 "nbformat_minor": 2
}
