{
 "cells": [
  {
   "cell_type": "code",
   "execution_count": 1,
   "metadata": {},
   "outputs": [
    {
     "name": "stdout",
     "output_type": "stream",
     "text": [
      "The sum of the diagonal elements of the 3x3 matrix is: 15\n"
     ]
    }
   ],
   "source": [
    "import numpy as np\n",
    "\n",
    "# Create a 3x3 matrix\n",
    "matrix_3x3 = np.array([[1, 2, 3],\n",
    "                       [4, 5, 6],\n",
    "                       [7, 8, 9]])\n",
    "\n",
    "# Calculate the sum of the diagonal elements\n",
    "diagonal_sum_3x3 = np.trace(matrix_3x3)\n",
    "\n",
    "print(f\"The sum of the diagonal elements of the 3x3 matrix is: {diagonal_sum_3x3}\")\n"
   ]
  },
  {
   "cell_type": "code",
   "execution_count": 2,
   "metadata": {},
   "outputs": [
    {
     "name": "stdout",
     "output_type": "stream",
     "text": [
      "The sum of the diagonal elements of the 4x4 matrix is: 34\n"
     ]
    }
   ],
   "source": [
    "import numpy as np\n",
    "\n",
    "# Create a 4x4 matrix\n",
    "matrix_4x4 = np.array([[1, 2, 3, 4],\n",
    "                       [5, 6, 7, 8],\n",
    "                       [9, 10, 11, 12],\n",
    "                       [13, 14, 15, 16]])\n",
    "\n",
    "# Calculate the sum of the diagonal elements\n",
    "diagonal_sum_4x4 = np.trace(matrix_4x4)\n",
    "\n",
    "print(f\"The sum of the diagonal elements of the 4x4 matrix is: {diagonal_sum_4x4}\")\n"
   ]
  }
 ],
 "metadata": {
  "kernelspec": {
   "display_name": "Python 3",
   "language": "python",
   "name": "python3"
  },
  "language_info": {
   "codemirror_mode": {
    "name": "ipython",
    "version": 3
   },
   "file_extension": ".py",
   "mimetype": "text/x-python",
   "name": "python",
   "nbconvert_exporter": "python",
   "pygments_lexer": "ipython3",
   "version": "3.11.4"
  }
 },
 "nbformat": 4,
 "nbformat_minor": 2
}
