{
 "cells": [
  {
   "cell_type": "code",
   "execution_count": 2,
   "metadata": {},
   "outputs": [
    {
     "name": "stdout",
     "output_type": "stream",
     "text": [
      "\n",
      "Maximum value: 9\n",
      "Minimum value: 0\n"
     ]
    }
   ],
   "source": [
    "import numpy as np\n",
    "\n",
    "# Create a sample matrix\n",
    "matrix = np.array([[5, 2, 9, 1],\n",
    "                   [7, 6, 3, 8],\n",
    "                   [4, 0, 1, 2]])\n",
    "\n",
    "# Get the maximum value\n",
    "max_value = np.max(matrix)\n",
    "\n",
    "# Get the minimum value\n",
    "min_value = np.min(matrix)\n",
    "\n",
    "\n",
    "print(f\"\\nMaximum value: {max_value}\")\n",
    "print(f\"Minimum value: {min_value}\")\n"
   ]
  }
 ],
 "metadata": {
  "kernelspec": {
   "display_name": "Python 3",
   "language": "python",
   "name": "python3"
  },
  "language_info": {
   "codemirror_mode": {
    "name": "ipython",
    "version": 3
   },
   "file_extension": ".py",
   "mimetype": "text/x-python",
   "name": "python",
   "nbconvert_exporter": "python",
   "pygments_lexer": "ipython3",
   "version": "3.11.4"
  }
 },
 "nbformat": 4,
 "nbformat_minor": 2
}
