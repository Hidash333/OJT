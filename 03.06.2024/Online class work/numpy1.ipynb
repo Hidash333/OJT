{
 "cells": [
  {
   "cell_type": "code",
   "execution_count": 1,
   "metadata": {},
   "outputs": [
    {
     "name": "stdout",
     "output_type": "stream",
     "text": [
      "[1 2 3 4 5 6]\n"
     ]
    }
   ],
   "source": [
    "import numpy as np \n",
    "\n",
    "#create an original array\n",
    "original_array = np.array([1,2,3,4,5,6])\n",
    "print(original_array)"
   ]
  },
  {
   "cell_type": "code",
   "execution_count": 2,
   "metadata": {},
   "outputs": [
    {
     "name": "stdout",
     "output_type": "stream",
     "text": [
      "[1 2 3 4 5 6]\n"
     ]
    }
   ],
   "source": [
    "#create a view for the array\n",
    "view_array = original_array.view()\n",
    "print(view_array)"
   ]
  },
  {
   "cell_type": "code",
   "execution_count": 4,
   "metadata": {},
   "outputs": [
    {
     "name": "stdout",
     "output_type": "stream",
     "text": [
      "[ 1  2 30  4  5  6]\n",
      "original array after modifuing the view:  [ 1  2 30  4  5  6]\n"
     ]
    }
   ],
   "source": [
    "#modify a value within the view array\n",
    "view_array[2]=30\n",
    "print(view_array)\n",
    "print(\"original array after modifuing the view: \", original_array)"
   ]
  },
  {
   "cell_type": "code",
   "execution_count": 8,
   "metadata": {},
   "outputs": [
    {
     "name": "stdout",
     "output_type": "stream",
     "text": [
      "[ 1  2 30  4  5  6]\n"
     ]
    }
   ],
   "source": [
    "#create a copy of original array\n",
    "copy_array = original_array.copy()\n",
    "print(copy_array)"
   ]
  },
  {
   "cell_type": "code",
   "execution_count": 11,
   "metadata": {},
   "outputs": [
    {
     "name": "stdout",
     "output_type": "stream",
     "text": [
      "[10  2 30  4  5  6]\n",
      "original array after copying the array:  [ 1  2 30  4  5  6]\n"
     ]
    }
   ],
   "source": [
    "#modify element in copy array, change 1st element to 10\n",
    "copy_array[0]=10\n",
    "print(copy_array)\n",
    "\n",
    "print(\"original array after copying the array: \", original_array)\n",
    "#in original array no changes happen, because we edit in the copied array"
   ]
  },
  {
   "cell_type": "code",
   "execution_count": null,
   "metadata": {},
   "outputs": [],
   "source": []
  }
 ],
 "metadata": {
  "kernelspec": {
   "display_name": "Python 3",
   "language": "python",
   "name": "python3"
  },
  "language_info": {
   "codemirror_mode": {
    "name": "ipython",
    "version": 3
   },
   "file_extension": ".py",
   "mimetype": "text/x-python",
   "name": "python",
   "nbconvert_exporter": "python",
   "pygments_lexer": "ipython3",
   "version": "3.11.4"
  }
 },
 "nbformat": 4,
 "nbformat_minor": 2
}
