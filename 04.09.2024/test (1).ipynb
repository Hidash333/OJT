{
 "cells": [
  {
   "cell_type": "code",
   "execution_count": 4,
   "metadata": {},
   "outputs": [],
   "source": [
    "# importing the necessary linraries\n",
    "from sqlalchemy import create_engine\n",
    "import pandas as pd\n",
    "from sklearn.model_selection import train_test_split\n",
    "from sklearn.tree import DecisionTreeClassifier\n",
    "import mysql.connector"
   ]
  },
  {
   "cell_type": "code",
   "execution_count": 5,
   "metadata": {},
   "outputs": [],
   "source": [
    "# create an engine of sqlalchemy\n",
    "def create_sqlalchemy_engine():\n",
    "    engine = create_engine('mysql+pymsql://root:@localhost/ai_project_db')\n",
    "    return engine"
   ]
  },
  {
   "cell_type": "code",
   "execution_count": 7,
   "metadata": {},
   "outputs": [],
   "source": [
    "#  lets create or set up the connection using mysql connector\n",
    "def create_connection():\n",
    "    connection = mysql.connector.connect(\n",
    "        hostname= \"localhost\",\n",
    "        user= \"root\",\n",
    "        password=\"\",\n",
    "        database = \"ai_project_db\"\n",
    "    )\n",
    "    return connection\n",
    "    "
   ]
  },
  {
   "cell_type": "code",
   "execution_count": 12,
   "metadata": {},
   "outputs": [],
   "source": [
    "#setup the database as well as query over here\n",
    "def setup_database ():\n",
    "    connection = create_connection()\n",
    "    cursor = connection.cursor()\n",
    "    # create the query for if the databese is not exist\n",
    "    cursor.execute(\"CREATE DATABASE IF NOT EXISTS ai_project_db\")\n",
    "    # use database\n",
    "    cursor.execute(\"USE ai_project_db\")\n",
    "    # create the table\n",
    "    cursor.execute(\"\"\"CREATE  TABLE IF NOT EXISTS\n",
    "                   databse(\n",
    "                   id INT AUTO_INCREMENT\n",
    "                   PRIMARY KEY,\n",
    "                   feature1 FLOAT,\n",
    "                   feature2 FLOAT,\n",
    "                   label INT)\n",
    "                   \"\"\")\n",
    "    connection.commit()\n",
    "    cursor.close()\n",
    "    connection.close()\n",
    "\n",
    "    #fetch data\n",
    "    def fetch_data():\n",
    "        engine = create_sqlalchemy_engine()\n",
    "        query = \"SELECT * FROM databse\"\n",
    "        df = pd.read.sql(query,engine)\n",
    "        return df \n",
    "    def train_model(df):\n",
    "        x = df[['feature1','feature2']]\n",
    "        y = df['label']\n",
    "        x_train,x_test,y_train,y_test = train_test_split(x,y,test_size=0.2,random_state=42)\n",
    "\n",
    "        model = DecisionTreeClassifier()\n",
    "        model.fit(x_train,y_train)\n",
    "\n",
    "        predictions = model.predict(x_test)\n",
    "        return predictions\n",
    "    \n",
    "    # store the predictions in mysql db\n",
    "    def store_predictions(prediction):\n",
    "        connection = create_connection()\n",
    "        cursor = connection.cursor()\n",
    "\n",
    "        # query for inserting\n",
    "        cursor.execute(\"CREATE TABLE OF NOT EXISTS predictions(id INT, prediction INT)\")\n",
    "        \n",
    "        for i, pred in enumerate(predictions):\n",
    "            cursor.execute(\"INSERT INTO predictions(id,prediction) VALUE(%s,%s)\",(i+int(pred)))\n",
    "            connection.commit()\n",
    "            cursor.close()\n",
    "            connection.close()\n",
    "\n",
    "    def insert_sample_data():\n",
    "        data = [\n",
    "            (1.5,2.5,0),\n",
    "            (2.5,4.5,0),\n",
    "            (2.0,3.1,0),\n",
    "            (1.8,2.9,0),\n",
    "            (1.1,2.1,0),\n",
    "        ]\n",
    "        connection = create_connection()\n",
    "        cursor= connection.cursor()\n",
    "\n",
    "        cursor.executemany(\"INSERT INTO dataset(feature1,feature2,label) VALUE(%s,%s,%s)\", data)\n",
    "        connection.commit()\n",
    "        cursor.close()\n",
    "        connection.close()\n",
    "\n",
    "    def main ():\n",
    "        setup_database()\n",
    "        insert_sample_data()\n",
    "\n",
    "        df = fetch_data()\n",
    "        predictions = train_model(df)\n",
    "        print(\"predictions:\",predictions)\n",
    "\n",
    "        store_predictions(predictions)\n",
    "    if __name__==\"__main__\":\n",
    "        main()\n",
    "\n"
   ]
  },
  {
   "cell_type": "code",
   "execution_count": null,
   "metadata": {},
   "outputs": [],
   "source": [
    "\n"
   ]
  }
 ],
 "metadata": {
  "kernelspec": {
   "display_name": "Python 3",
   "language": "python",
   "name": "python3"
  },
  "language_info": {
   "codemirror_mode": {
    "name": "ipython",
    "version": 3
   },
   "file_extension": ".py",
   "mimetype": "text/x-python",
   "name": "python",
   "nbconvert_exporter": "python",
   "pygments_lexer": "ipython3",
   "version": "3.12.3"
  }
 },
 "nbformat": 4,
 "nbformat_minor": 2
}
