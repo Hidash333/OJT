{
 "cells": [
  {
   "cell_type": "code",
   "execution_count": 2,
   "metadata": {},
   "outputs": [
    {
     "name": "stdout",
     "output_type": "stream",
     "text": [
      "Confusion Matrix:\n",
      "[[0 0]\n",
      " [1 1]]\n",
      "Accuracy: 0.50\n",
      "Precision: 1.00\n",
      "Recall: 0.50\n",
      "F1 Score: 0.67\n"
     ]
    }
   ],
   "source": [
    "import pandas as pd\n",
    "from sklearn.model_selection import train_test_split\n",
    "from sklearn.linear_model import LogisticRegression\n",
    "from sklearn.metrics import confusion_matrix, accuracy_score, precision_score, recall_score, f1_score\n",
    "\n",
    "# Sample dataset\n",
    "data = {\n",
    "    'Age': [55, 60, 45, 50, 65],\n",
    "    'Gender': ['male', 'female', 'male', 'female', 'male'],\n",
    "    'Cholesterol': [220, 180, 190, 200, 230],\n",
    "    'BP': [140, 130, 110, 120, 150],\n",
    "    'Smoking': ['yes', 'no', 'yes', 'no', 'yes'],\n",
    "    'Diabetes': ['no', 'yes', 'no', 'no', 'yes'],\n",
    "    'Exercise': ['yes', 'no', 'yes', 'yes', 'no'],\n",
    "    'Heart_Attack': [1, 1, 0, 0, 1]\n",
    "}\n",
    "\n",
    "# Convert to DataFrame\n",
    "df = pd.DataFrame(data)\n",
    "\n",
    "# Encode categorical variables\n",
    "df['Gender'] = df['Gender'].map({'male': 0, 'female': 1})\n",
    "df['Smoking'] = df['Smoking'].map({'yes': 1, 'no': 0})\n",
    "df['Diabetes'] = df['Diabetes'].map({'yes': 1, 'no': 0})\n",
    "df['Exercise'] = df['Exercise'].map({'yes': 1, 'no': 0})\n",
    "\n",
    "# Features and target\n",
    "X = df.drop('Heart_Attack', axis=1)\n",
    "y = df['Heart_Attack']\n",
    "\n",
    "# Split the dataset\n",
    "X_train, X_test, y_train, y_test = train_test_split(X, y, test_size=0.4, random_state=42)\n",
    "\n",
    "# Train the logistic regression model\n",
    "model = LogisticRegression()\n",
    "model.fit(X_train, y_train)\n",
    "\n",
    "# Predict on the test data\n",
    "y_pred = model.predict(X_test)\n",
    "\n",
    "# Evaluate the model\n",
    "conf_matrix = confusion_matrix(y_test, y_pred)\n",
    "accuracy = accuracy_score(y_test, y_pred)\n",
    "precision = precision_score(y_test, y_pred)\n",
    "recall = recall_score(y_test, y_pred)\n",
    "f1 = f1_score(y_test, y_pred)\n",
    "\n",
    "# Print results\n",
    "print(\"Confusion Matrix:\")\n",
    "\n",
    "print(conf_matrix)\n",
    "print(f\"Accuracy: {accuracy:.2f}\")\n",
    "print(f\"Precision: {precision:.2f}\")\n",
    "print(f\"Recall: {recall:.2f}\")\n",
    "print(f\"F1 Score: {f1:.2f}\")"
   ]
  }
 ],
 "metadata": {
  "kernelspec": {
   "display_name": "Python 3",
   "language": "python",
   "name": "python3"
  },
  "language_info": {
   "codemirror_mode": {
    "name": "ipython",
    "version": 3
   },
   "file_extension": ".py",
   "mimetype": "text/x-python",
   "name": "python",
   "nbconvert_exporter": "python",
   "pygments_lexer": "ipython3",
   "version": "3.11.4"
  }
 },
 "nbformat": 4,
 "nbformat_minor": 2
}
