{
 "cells": [
  {
   "cell_type": "code",
   "execution_count": 13,
   "metadata": {},
   "outputs": [
    {
     "name": "stdout",
     "output_type": "stream",
     "text": [
      "      Name  Age      Place  Salary\n",
      "0  Kingini   20     Kannur   45000\n",
      "1    Tuttu   23    Calicut   35000\n",
      "2   Chinnu   23  Kolathara   35000\n",
      "3    Dhamu   23    Calicut   40000\n",
      "4     Ikka   24    Poonoor   60000\n",
      "5     Angu   24    Palazhi   30000\n",
      "6  Kuttapi   23  Chevayoor   45000\n"
     ]
    }
   ],
   "source": [
    "import pandas as pd \n",
    "\n",
    "#read the csv file into the dataframe\n",
    "df=pd.read_csv('C:/Users/adit/Desktop/pandasa/clt.csv')\n",
    "print(df)"
   ]
  },
  {
   "cell_type": "code",
   "execution_count": 14,
   "metadata": {},
   "outputs": [
    {
     "name": "stdout",
     "output_type": "stream",
     "text": [
      "      Name  Age      Place\n",
      "0  Kingini   20     Kannur\n",
      "1    Tuttu   23    Calicut\n",
      "2   Chinnu   23  Kolathara\n",
      "3    Dhamu   23    Calicut\n",
      "4     Ikka   24    Poonoor\n",
      "5     Angu   24    Palazhi\n",
      "6  Kuttapi   23  Chevayoor\n"
     ]
    }
   ],
   "source": [
    "df=pd.read_csv('C:/Users/adit/Desktop/pandasa/clt.csv',\n",
    "usecols=['Name','Age','Place'])\n",
    "print(df)"
   ]
  },
  {
   "cell_type": "code",
   "execution_count": 15,
   "metadata": {},
   "outputs": [
    {
     "name": "stdout",
     "output_type": "stream",
     "text": [
      "      Name  Age      Place\n",
      "0  Kingini   20     Kannur\n",
      "1    Tuttu   23    Calicut\n",
      "2   Chinnu   23  Kolathara\n",
      "3    Dhamu   23    Calicut\n",
      "4     Ikka   24    Poonoor\n",
      "5     Angu   24    Palazhi\n",
      "6  Kuttapi   23  Chevayoor\n"
     ]
    }
   ],
   "source": [
    "df=pd.read_csv('C:/Users/adit/Desktop/pandasa/clt.csv',\n",
    "               dtype={'Age':int,'Salary':float},\n",
    "usecols=['Name','Age','Place'])\n",
    "print(df)"
   ]
  }
 ],
 "metadata": {
  "kernelspec": {
   "display_name": "Python 3",
   "language": "python",
   "name": "python3"
  },
  "language_info": {
   "codemirror_mode": {
    "name": "ipython",
    "version": 3
   },
   "file_extension": ".py",
   "mimetype": "text/x-python",
   "name": "python",
   "nbconvert_exporter": "python",
   "pygments_lexer": "ipython3",
   "version": "3.11.4"
  }
 },
 "nbformat": 4,
 "nbformat_minor": 2
}
