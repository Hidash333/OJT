{
 "cells": [
  {
   "cell_type": "code",
   "execution_count": 1,
   "metadata": {},
   "outputs": [
    {
     "name": "stdout",
     "output_type": "stream",
     "text": [
      "      Name  Age    place\n",
      "0  kingini   24  koovode\n",
      "1    tuttu   23   mavoor\n",
      "2     ikka   24   punoor\n"
     ]
    }
   ],
   "source": [
    "#dataframe is 2D which is in tabular format\n",
    "import pandas as pd\n",
    "\n",
    "#Create a dataframe with a dictionary\n",
    "data = {'Name':['kingini','tuttu','ikka'],\n",
    "        'Age':[24,23,24],\n",
    "        'place':['koovode','mavoor','punoor']\n",
    "        }\n",
    "#convert the data into dataframes\n",
    "df = pd.DataFrame(data)\n",
    "\n",
    "print (df)"
   ]
  },
  {
   "cell_type": "code",
   "execution_count": 2,
   "metadata": {},
   "outputs": [
    {
     "name": "stdout",
     "output_type": "stream",
     "text": [
      "0    kingini\n",
      "1      tuttu\n",
      "2       ikka\n",
      "Name: Name, dtype: object\n"
     ]
    }
   ],
   "source": [
    "#print only names inside dataset\n",
    "print(df['Name'])"
   ]
  },
  {
   "cell_type": "code",
   "execution_count": 4,
   "metadata": {},
   "outputs": [
    {
     "name": "stdout",
     "output_type": "stream",
     "text": [
      "      Name    place\n",
      "0  kingini  koovode\n",
      "1    tuttu   mavoor\n",
      "2     ikka   punoor\n"
     ]
    }
   ],
   "source": [
    "#print multiple values, give brackets regarding number of dataset displays\n",
    "print(df[['Name','place']])"
   ]
  },
  {
   "cell_type": "code",
   "execution_count": 10,
   "metadata": {},
   "outputs": [
    {
     "name": "stdout",
     "output_type": "stream",
     "text": [
      "    Name  Age   place\n",
      "2   ikka   24  punoor\n",
      "1  tuttu   23  mavoor\n"
     ]
    }
   ],
   "source": [
    "#particular each row display\n",
    "print(df.iloc[[2,1]])"
   ]
  },
  {
   "cell_type": "code",
   "execution_count": 11,
   "metadata": {},
   "outputs": [
    {
     "name": "stdout",
     "output_type": "stream",
     "text": [
      "      Name  Age    place\n",
      "0  kingini   24  koovode\n",
      "2     ikka   24   punoor\n"
     ]
    }
   ],
   "source": [
    "#display age greater than 23\n",
    "print(df[df['Age']>23])"
   ]
  },
  {
   "cell_type": "code",
   "execution_count": 27,
   "metadata": {},
   "outputs": [
    {
     "name": "stdout",
     "output_type": "stream",
     "text": [
      "      Name    place  stipend\n",
      "0  kingini  koovode    15000\n",
      "1    tuttu   mavoor     5000\n",
      "2     ikka   punoor     5000\n"
     ]
    }
   ],
   "source": [
    "#add a new coloumn into the dataframe\n",
    "df['stipend']=[15000,5000,5000]\n",
    "print(df)"
   ]
  },
  {
   "cell_type": "code",
   "execution_count": 29,
   "metadata": {},
   "outputs": [
    {
     "name": "stdout",
     "output_type": "stream",
     "text": [
      "      Name    place  stipend\n",
      "0  kingini  koovode    15000\n",
      "1    tuttu   mavoor     5000\n",
      "2     ikka   punoor     5000\n"
     ]
    }
   ],
   "source": [
    "#remove particular coloumn that have\n",
    "df = df.drop(columns=['Age'])\n",
    "print(df)"
   ]
  },
  {
   "cell_type": "code",
   "execution_count": 30,
   "metadata": {},
   "outputs": [
    {
     "name": "stdout",
     "output_type": "stream",
     "text": [
      "            stipend\n",
      "count      3.000000\n",
      "mean    8333.333333\n",
      "std     5773.502692\n",
      "min     5000.000000\n",
      "25%     5000.000000\n",
      "50%     5000.000000\n",
      "75%    10000.000000\n",
      "max    15000.000000\n"
     ]
    }
   ],
   "source": [
    "print(df.describe())"
   ]
  }
 ],
 "metadata": {
  "kernelspec": {
   "display_name": "Python 3",
   "language": "python",
   "name": "python3"
  },
  "language_info": {
   "codemirror_mode": {
    "name": "ipython",
    "version": 3
   },
   "file_extension": ".py",
   "mimetype": "text/x-python",
   "name": "python",
   "nbconvert_exporter": "python",
   "pygments_lexer": "ipython3",
   "version": "3.11.4"
  }
 },
 "nbformat": 4,
 "nbformat_minor": 2
}
