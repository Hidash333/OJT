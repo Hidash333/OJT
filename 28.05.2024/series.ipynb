{
 "cells": [
  {
   "cell_type": "code",
   "execution_count": 1,
   "metadata": {},
   "outputs": [
    {
     "name": "stdout",
     "output_type": "stream",
     "text": [
      "0    10\n",
      "1     2\n",
      "2     3\n",
      "3    45\n",
      "4    65\n",
      "dtype: int64\n"
     ]
    }
   ],
   "source": [
    "import pandas as pd \n",
    "\n",
    "#series: which one dimensional\n",
    "# we can create a series with in list,array,dictionaries\n",
    "#each series valu have an index value which will start from 0\n",
    "data = [10,2,3,45,65]\n",
    "series = pd.Series(data)\n",
    "\n",
    "print(series)"
   ]
  },
  {
   "cell_type": "code",
   "execution_count": 2,
   "metadata": {},
   "outputs": [
    {
     "name": "stdout",
     "output_type": "stream",
     "text": [
      "x    10\n",
      "y    20\n",
      "z    30\n",
      "dtype: int64\n"
     ]
    }
   ],
   "source": [
    "data = {'x':10, 'y':20, 'z':30}\n",
    "series_dict = pd.Series(data)\n",
    "print(series_dict)"
   ]
  },
  {
   "cell_type": "code",
   "execution_count": 3,
   "metadata": {},
   "outputs": [
    {
     "name": "stdout",
     "output_type": "stream",
     "text": [
      "45\n"
     ]
    }
   ],
   "source": [
    "#print particular element separately using indexing as 3rd element\n",
    "data = [10,2,3,45,65]\n",
    "series = pd.Series(data)\n",
    "\n",
    "print(series[3])"
   ]
  },
  {
   "cell_type": "code",
   "execution_count": 5,
   "metadata": {},
   "outputs": [
    {
     "name": "stdout",
     "output_type": "stream",
     "text": [
      "0    20\n",
      "1    12\n",
      "2    13\n",
      "3    55\n",
      "4    75\n",
      "dtype: int64\n"
     ]
    }
   ],
   "source": [
    "#arithmetical operations\n",
    "\n",
    "series_add = series+10\n",
    "print(series_add)"
   ]
  },
  {
   "cell_type": "code",
   "execution_count": 6,
   "metadata": {},
   "outputs": [
    {
     "name": "stdout",
     "output_type": "stream",
     "text": [
      "3    45\n",
      "4    65\n",
      "dtype: int64\n"
     ]
    }
   ],
   "source": [
    "#filtering the value greater than 20\n",
    "filtered_series=series[series>20]\n",
    "print(filtered_series)"
   ]
  },
  {
   "cell_type": "code",
   "execution_count": 7,
   "metadata": {},
   "outputs": [
    {
     "name": "stdout",
     "output_type": "stream",
     "text": [
      "mean value 0f series is 25.0\n"
     ]
    }
   ],
   "source": [
    "#calculate mean of the data\n",
    "#data = [10,2,3,45,65]\n",
    "mean = series.mean()\n",
    "print(f\"mean value 0f series is {mean}\")"
   ]
  }
 ],
 "metadata": {
  "kernelspec": {
   "display_name": "Python 3",
   "language": "python",
   "name": "python3"
  },
  "language_info": {
   "codemirror_mode": {
    "name": "ipython",
    "version": 3
   },
   "file_extension": ".py",
   "mimetype": "text/x-python",
   "name": "python",
   "nbconvert_exporter": "python",
   "pygments_lexer": "ipython3",
   "version": "3.11.4"
  }
 },
 "nbformat": 4,
 "nbformat_minor": 2
}
