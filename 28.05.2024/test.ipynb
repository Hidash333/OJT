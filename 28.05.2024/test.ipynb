{
 "cells": [
  {
   "cell_type": "code",
   "execution_count": 2,
   "metadata": {},
   "outputs": [
    {
     "name": "stdout",
     "output_type": "stream",
     "text": [
      "      Name  Age      Place Salary  Empty Column\n",
      "0  Kingini   20     Kannur  45000           NaN\n",
      "1    Tuttu   23    Calicut  35000           NaN\n",
      "2   Chinnu   23  Kolathara  35000           NaN\n",
      "3    Dhamu   23    Calicut  40000           NaN\n",
      "4     Ikka   24    Poonoor  60000           NaN\n",
      "5     Angu   24    Palazhi  30000           NaN\n",
      "6  Kuttapi   23  Chevayoor  45000           NaN\n",
      "7      Nan  Nan        Nan    Nan           NaN\n"
     ]
    }
   ],
   "source": [
    "import pandas as pd \n",
    "\n",
    "#read csv file into dataframe\n",
    "df=pd.read_csv('clt.csv')\n",
    "print(df)"
   ]
  },
  {
   "cell_type": "code",
   "execution_count": 41,
   "metadata": {},
   "outputs": [
    {
     "name": "stdout",
     "output_type": "stream",
     "text": [
      "      Name  Age      Place Salary  Empty Column\n",
      "0  Kingini   20     Kannur  45000           NaN\n",
      "1    Tuttu   23    Calicut  35000           NaN\n",
      "2   Chinnu   23  Kolathara  35000           NaN\n",
      "3    Dhamu   23    Calicut  40000           NaN\n",
      "4     Ikka   24    Poonoor  60000           NaN\n",
      "5     Angu   24    Palazhi  30000           NaN\n",
      "6  Kuttapi   23  Chevayoor  45000           NaN\n",
      "7      Nan  Nan        Nan    Nan           NaN\n"
     ]
    }
   ],
   "source": [
    "#removing particular row without empty data\n",
    "df_cleaned_row = df.dropna(axis=0,how=\"all\")\n",
    "print(df_cleaned_row)"
   ]
  },
  {
   "cell_type": "code",
   "execution_count": 21,
   "metadata": {},
   "outputs": [
    {
     "name": "stdout",
     "output_type": "stream",
     "text": [
      "      Name  Age      Place Salary\n",
      "0  Kingini   20     Kannur  45000\n",
      "1    Tuttu   23    Calicut  35000\n",
      "2   Chinnu   23  Kolathara  35000\n",
      "3    Dhamu   23    Calicut  40000\n",
      "4     Ikka   24    Poonoor  60000\n",
      "5     Angu   24    Palazhi  30000\n",
      "6  Kuttapi   23  Chevayoor  45000\n",
      "7      Nan  Nan        Nan    Nan\n"
     ]
    }
   ],
   "source": [
    "#removing particular column without empty data\n",
    "df_cleaned_col = df.dropna(axis=1,how=\"all\")\n",
    "print(df_cleaned_col)"
   ]
  },
  {
   "cell_type": "code",
   "execution_count": 43,
   "metadata": {},
   "outputs": [
    {
     "name": "stdout",
     "output_type": "stream",
     "text": [
      "      Name  Age      Place Salary  Empty Column\n",
      "0  Kingini   20     Kannur  45000           0.0\n",
      "1    Tuttu   23    Calicut  35000           0.0\n",
      "2   Chinnu   23  Kolathara  35000           0.0\n",
      "3    Dhamu   23    Calicut  40000           0.0\n",
      "4     Ikka   24    Poonoor  60000           0.0\n",
      "5     Angu   24    Palazhi  30000           0.0\n",
      "6  Kuttapi   23  Chevayoor  45000           0.0\n",
      "7      Nan  Nan        Nan    Nan           0.0\n"
     ]
    }
   ],
   "source": [
    "df_filled_data = df.fillna(0)\n",
    "print(df_filled_data)"
   ]
  }
 ],
 "metadata": {
  "kernelspec": {
   "display_name": "Python 3",
   "language": "python",
   "name": "python3"
  },
  "language_info": {
   "codemirror_mode": {
    "name": "ipython",
    "version": 3
   },
   "file_extension": ".py",
   "mimetype": "text/x-python",
   "name": "python",
   "nbconvert_exporter": "python",
   "pygments_lexer": "ipython3",
   "version": "3.11.4"
  }
 },
 "nbformat": 4,
 "nbformat_minor": 2
}
